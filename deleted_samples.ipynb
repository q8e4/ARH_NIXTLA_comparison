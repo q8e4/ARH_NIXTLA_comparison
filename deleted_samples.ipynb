{
 "cells": [
  {
   "cell_type": "code",
   "execution_count": 1,
   "id": "cb3c9497-71d5-4794-a891-aa40e59d09c2",
   "metadata": {
    "tags": []
   },
   "outputs": [
    {
     "data": {
      "text/html": [
       "<div>\n",
       "<style scoped>\n",
       "    .dataframe tbody tr th:only-of-type {\n",
       "        vertical-align: middle;\n",
       "    }\n",
       "\n",
       "    .dataframe tbody tr th {\n",
       "        vertical-align: top;\n",
       "    }\n",
       "\n",
       "    .dataframe thead th {\n",
       "        text-align: right;\n",
       "    }\n",
       "</style>\n",
       "<table border=\"1\" class=\"dataframe\">\n",
       "  <thead>\n",
       "    <tr style=\"text-align: right;\">\n",
       "      <th></th>\n",
       "      <th>unique_id</th>\n",
       "      <th>ds</th>\n",
       "      <th>y</th>\n",
       "    </tr>\n",
       "  </thead>\n",
       "  <tbody>\n",
       "    <tr>\n",
       "      <th>0</th>\n",
       "      <td>AP-AP</td>\n",
       "      <td>2023-10-01 04:00:00+00:00</td>\n",
       "      <td>4042.513</td>\n",
       "    </tr>\n",
       "    <tr>\n",
       "      <th>1</th>\n",
       "      <td>AP-AP</td>\n",
       "      <td>2023-10-01 05:00:00+00:00</td>\n",
       "      <td>3850.067</td>\n",
       "    </tr>\n",
       "    <tr>\n",
       "      <th>8784</th>\n",
       "      <td>DOM-DOM</td>\n",
       "      <td>2023-10-01 04:00:00+00:00</td>\n",
       "      <td>10732.435</td>\n",
       "    </tr>\n",
       "    <tr>\n",
       "      <th>8785</th>\n",
       "      <td>DOM-DOM</td>\n",
       "      <td>2023-10-01 05:00:00+00:00</td>\n",
       "      <td>10314.211</td>\n",
       "    </tr>\n",
       "    <tr>\n",
       "      <th>17568</th>\n",
       "      <td>JC-JC</td>\n",
       "      <td>2023-10-01 04:00:00+00:00</td>\n",
       "      <td>1825.101</td>\n",
       "    </tr>\n",
       "    <tr>\n",
       "      <th>17569</th>\n",
       "      <td>JC-JC</td>\n",
       "      <td>2023-10-01 05:00:00+00:00</td>\n",
       "      <td>1729.590</td>\n",
       "    </tr>\n",
       "    <tr>\n",
       "      <th>26352</th>\n",
       "      <td>PN-PN</td>\n",
       "      <td>2023-10-01 04:00:00+00:00</td>\n",
       "      <td>1454.666</td>\n",
       "    </tr>\n",
       "    <tr>\n",
       "      <th>26353</th>\n",
       "      <td>PN-PN</td>\n",
       "      <td>2023-10-01 05:00:00+00:00</td>\n",
       "      <td>1416.688</td>\n",
       "    </tr>\n",
       "    <tr>\n",
       "      <th>35136</th>\n",
       "      <td>RTO-RTO</td>\n",
       "      <td>2023-10-01 04:00:00+00:00</td>\n",
       "      <td>69139.393</td>\n",
       "    </tr>\n",
       "    <tr>\n",
       "      <th>35137</th>\n",
       "      <td>RTO-RTO</td>\n",
       "      <td>2023-10-01 05:00:00+00:00</td>\n",
       "      <td>66207.416</td>\n",
       "    </tr>\n",
       "  </tbody>\n",
       "</table>\n",
       "</div>"
      ],
      "text/plain": [
       "      unique_id                        ds          y\n",
       "0         AP-AP 2023-10-01 04:00:00+00:00   4042.513\n",
       "1         AP-AP 2023-10-01 05:00:00+00:00   3850.067\n",
       "8784    DOM-DOM 2023-10-01 04:00:00+00:00  10732.435\n",
       "8785    DOM-DOM 2023-10-01 05:00:00+00:00  10314.211\n",
       "17568     JC-JC 2023-10-01 04:00:00+00:00   1825.101\n",
       "17569     JC-JC 2023-10-01 05:00:00+00:00   1729.590\n",
       "26352     PN-PN 2023-10-01 04:00:00+00:00   1454.666\n",
       "26353     PN-PN 2023-10-01 05:00:00+00:00   1416.688\n",
       "35136   RTO-RTO 2023-10-01 04:00:00+00:00  69139.393\n",
       "35137   RTO-RTO 2023-10-01 05:00:00+00:00  66207.416"
      ]
     },
     "execution_count": 1,
     "metadata": {},
     "output_type": "execute_result"
    }
   ],
   "source": [
    "import time\n",
    "import requests\n",
    "import pandas as pd\n",
    "import numpy as np\n",
    "\n",
    "from nixtla import NixtlaClient\n",
    "\n",
    "from utilsforecast.losses import mae, smape, mse\n",
    "from utilsforecast.evaluation import evaluate\n",
    "\n",
    "api_key = 'nixak-d84ihFiuZV4enObePImEW5m0SPKLGWs5wwBKwSWxeot1u60CHTWRRD4OboD5sMLJh7kN9iixkJTtlHMu'\n",
    "\n",
    "nixtla_client = NixtlaClient(\n",
    "    # defaults to os.environ.get(\"NIXTLA_API_KEY\")\n",
    "    api_key = api_key\n",
    ")x\n",
    "\n",
    "df = pd.read_csv('https://raw.githubusercontent.com/Nixtla/transfer-learning-time-series/refs/heads/main/datasets/pjm_in_zone.csv')\n",
    "df['ds'] = pd.to_datetime(df['ds'])\n",
    "\n",
    "\n",
    "df.groupby('unique_id').head(2)"
   ]
  },
  {
   "cell_type": "code",
   "execution_count": 2,
   "id": "026f77cb-0ae3-4bf1-998d-4a174d854ac2",
   "metadata": {
    "tags": []
   },
   "outputs": [],
   "source": [
    "from utilsforecast.plotting import plot_series\n",
    "from matplotlib.pyplot import figure\n",
    "import matplotlib.pyplot as plt"
   ]
  },
  {
   "cell_type": "code",
   "execution_count": 3,
   "id": "c76b253d-16ec-4376-b335-a0395f6ed738",
   "metadata": {
    "tags": []
   },
   "outputs": [],
   "source": [
    "def generate_inputs(df, days=73):\n",
    "\n",
    "    test_df = df.groupby('unique_id').tail(24 * days)\n",
    "    train_df = df.groupby('unique_id').apply(lambda group: group.iloc[:-1 * (24 * days)]).reset_index(drop=True)\n",
    "\n",
    "\n",
    "    #create list of 73 days true values for each unique_id\n",
    "    Y_df = [\n",
    "    test_df.groupby('unique_id', group_keys=False).apply(lambda group: group.iloc[i:i+24]).reset_index(drop=True)\n",
    "    for i in range(0, 24 * days, 24)\n",
    "    ]\n",
    "\n",
    "    p = 1\n",
    "\n",
    "    #create paired inputs\n",
    "    inputs_df = [Y_df[i] for i in range(len(Y_df) - p)]\n",
    "\n",
    "    inputs_df.insert(0, train_df.groupby('unique_id', group_keys=False).apply(lambda group: group.iloc[-24:]))\n",
    "\n",
    "\n",
    "    return Y_df, inputs_df, train_df, test_df\n"
   ]
  },
  {
   "cell_type": "code",
   "execution_count": null,
   "id": "96966337-7fb8-4bbc-a8db-0c2b4a88dfef",
   "metadata": {
    "tags": []
   },
   "outputs": [],
   "source": [
    "Y_df, inputs_df, train_df, test_df = generate_inputs(df)"
   ]
  },
  {
   "cell_type": "code",
   "execution_count": null,
   "id": "ee0f38b6-a79a-4978-b381-b511cdee2179",
   "metadata": {
    "tags": []
   },
   "outputs": [],
   "source": [
    "'''\n",
    "import shutil \n",
    "\n",
    "filename = \"checkpoints_p1days.zip\"\n",
    "extract_dir = \"checkpoints\"\n",
    "archive_format = \"zip\"\n",
    "\n",
    "shutil.unpack_archive(filename, extract_dir, archive_format)"
   ]
  },
  {
   "cell_type": "code",
   "execution_count": 5,
   "id": "a292e81c-390d-444a-aba5-7c8e03b93b54",
   "metadata": {
    "tags": []
   },
   "outputs": [
    {
     "name": "stderr",
     "output_type": "stream",
     "text": [
      "INFO:lightning_fabric.utilities.seed:Seed set to 1\n",
      "INFO:lightning_fabric.utilities.seed:Seed set to 1\n"
     ]
    }
   ],
   "source": [
    "from neuralforecast.core import NeuralForecast\n",
    "from neuralforecast.models import NHITS, LSTM\n",
    "\n",
    "nf = NeuralForecast.load(path='./checkpoints/models/')"
   ]
  },
  {
   "cell_type": "code",
   "execution_count": 15,
   "id": "c4f94ec9-8cc1-4f1c-8b18-52a01ce19eb0",
   "metadata": {
    "tags": []
   },
   "outputs": [],
   "source": [
    "subset = train_df[train_df['unique_id'] == 'AP-AP']['y'].values\n",
    "subset = subset.reshape(-1,24)\n"
   ]
  },
  {
   "cell_type": "code",
   "execution_count": 16,
   "id": "d947a743-a4a5-420b-9cc6-7c61381bc617",
   "metadata": {
    "tags": []
   },
   "outputs": [
    {
     "data": {
      "text/plain": [
       "(293, 24)"
      ]
     },
     "execution_count": 16,
     "metadata": {},
     "output_type": "execute_result"
    }
   ],
   "source": [
    "subset.shape"
   ]
  },
  {
   "cell_type": "code",
   "execution_count": 38,
   "id": "86b722c1-f302-49b4-910b-ea1ca46ca7c5",
   "metadata": {
    "tags": []
   },
   "outputs": [
    {
     "data": {
      "text/plain": [
       "14"
      ]
     },
     "execution_count": 38,
     "metadata": {},
     "output_type": "execute_result"
    }
   ],
   "source": [
    "    \n",
    "    # get the uniaue_id of the current location\n",
    "u_id = 'DOM-DOM'\n",
    "\n",
    "# Get the indices of the worst predicted day\n",
    "worst_day = int(dom_mae[dom_mae['unique_id'] == u_id].loc[0, 'n_day'] - 1)\n",
    "\n",
    "worst_day"
   ]
  },
  {
   "cell_type": "code",
   "execution_count": 31,
   "id": "1d92e99f-e8c9-44ce-a39f-2dfe86c720bc",
   "metadata": {
    "tags": []
   },
   "outputs": [
    {
     "data": {
      "text/plain": [
       "array([10956.68185077,  8193.18925017,  7565.45762988,  7586.60195537,\n",
       "        8467.35135507,  9261.95347804, 12479.77524129, 12146.85810828,\n",
       "        9700.37977452, 10062.84110383,  9977.3841495 , 10088.07942745,\n",
       "       10797.36242718, 11203.7469026 , 11544.72636546,  9359.44049494,\n",
       "        9226.63152426,  9370.07620405,  9429.21550166,  9927.62479804,\n",
       "       11251.79488999, 11214.70639043,  9043.62271652,  9200.41862911,\n",
       "        9740.06431237,  9917.26683107, 10101.93835622, 10969.87197856,\n",
       "       11414.19391232,  8820.27122243,  7774.01185047,  5931.10027356,\n",
       "        6944.99917207,  8358.42484806, 10043.73288967, 10915.91421333,\n",
       "        8338.11840084,  9135.27340365,  9111.40286096,  8903.26414496,\n",
       "        7702.02005414,  9117.84059664,  9014.94182744,  7220.12923569,\n",
       "        7573.7209848 ,  7617.48211456,  8298.44559206,  8764.28696107,\n",
       "        9982.53249707,  9069.11415923,  6432.5558896 ,  5035.78053672,\n",
       "        6850.4123616 ,  9616.5795705 ,  8341.25261741,  7296.02758582,\n",
       "        7166.42741162,  4100.35029156,  3438.14373419,  5520.99303376,\n",
       "        6314.60398814,  5280.50166433,  8821.22089378,  9279.62300236,\n",
       "        5760.77781582,  4760.92411753,  4059.94218891,  4941.57215833,\n",
       "        7127.72785504,  8005.68492026,  7996.29710463,  3782.65424746,\n",
       "        5601.02593746,  5034.01820272,  5735.20492541,  6582.49446821,\n",
       "        7208.64523311,  6963.14309749,  4968.59520879,  3509.90496785,\n",
       "        5908.77958448,  4569.37184311,  5267.56620135,  6601.21482507,\n",
       "        8780.52417858,  9934.67985356,  8440.64530073,  7619.68727542,\n",
       "        8033.40317651,  6852.83310455,  6149.23041243,  6557.36922016,\n",
       "        5205.2594924 ,  3871.01161131,  5111.99845664,  3595.34888671,\n",
       "        5797.90145305,  3359.54316909,  4874.73332058,  4481.21967913,\n",
       "        3775.02260656,  3590.84680295,  5548.97740575,  5098.67797844,\n",
       "        4492.28349884,  3991.95586483,  4957.15928645,  5719.55930873,\n",
       "        8363.73171644,  6924.70863052,  4401.62298022,  5822.44481844,\n",
       "        6361.43356687,  7862.74978713,  5145.82528891,  4917.60080221,\n",
       "        6792.95339629,  8786.11709363,  8905.86695642,  6928.64006782,\n",
       "        3929.30748979,  4365.2129674 ,  4589.94415722,  6289.29797136,\n",
       "        5703.82951078,  7415.01233545,  7853.08613157,  6112.717377  ,\n",
       "        5999.36719825,  6913.28213405,  6720.28828114,  8264.40267752,\n",
       "        9632.25538289,  9018.7996226 ,  6196.41148772,  5002.79452554,\n",
       "        5473.71257267,  6344.01923462,  6070.77550417,  4173.71602868,\n",
       "        6132.10135238,  6065.31398843,  6715.21108393,  6987.41257961,\n",
       "        4830.90199429,  7046.00674766,  6131.61402429,  7172.33394429,\n",
       "        8072.84887835,  7431.75302595,  7469.97968638,  5845.11311175,\n",
       "        6832.83458799,  8024.36678395, 10359.70620666,  8983.75847717,\n",
       "        8566.21483367,  8220.86215017,  8816.26708119,  8881.95585388,\n",
       "        7849.78039607,  6376.70900337,  6678.40124185,  8643.32232634,\n",
       "        9204.43110096,  9697.45620017, 10003.95217134, 11113.11413233,\n",
       "       11159.60270991,  5693.32350397,  6409.53511656,  7531.63042895,\n",
       "        6963.42591474,  7768.0079226 ,  6929.27187777,  8559.33843004,\n",
       "        8097.18978591,  7660.2665646 ,  8423.34944163,  8668.43805778,\n",
       "        9898.54533238, 10139.15327339, 11968.14609821,  9207.34540467,\n",
       "        8166.46465762,  7330.38708695,  7072.42375014,  6721.68924725,\n",
       "        8715.69918747, 10637.12501412,  9231.21540895,  9531.3734147 ,\n",
       "        9443.037314  ,  9444.39363623,  9956.27303862, 11342.31603097,\n",
       "       11321.21512196,  8881.02513087,  9511.40804489,  9771.61565284,\n",
       "       10028.7252733 , 10608.80286072, 12447.67949395, 10666.3836189 ,\n",
       "        9288.34536416,  9407.94555027, 10046.85819324,  9903.88909502,\n",
       "       10595.85732213, 10946.64843352, 10442.67418391,  6473.66554257,\n",
       "        7844.08202426,  7856.63531146,  6710.89279155,  8564.87794256,\n",
       "       11958.48502371, 11246.55793565,  9031.37367151,  7665.29083545,\n",
       "        6560.73606681,  9298.77442661, 10672.27982179, 11996.09136074,\n",
       "       12317.29004349,  9182.49321835,  9266.44028944,  8666.16515188,\n",
       "        8242.18881075,  9899.70946063, 10217.08929311,  9455.70478918,\n",
       "        6081.83630907,  4585.58867867,  4048.8640874 ,  4798.02540894,\n",
       "        5284.75739269,  7445.47938702,  7841.7219638 ,  8515.05444001,\n",
       "        7689.3137853 ,  9161.14315406,  9705.41109162,  9975.86429961,\n",
       "       10400.0454259 , 10896.43365499,  5792.92784192,  3881.34594063,\n",
       "        5317.58692042,  4546.66972798,  7547.57877671,  9449.48165811,\n",
       "        9838.19554005,  9057.69133025,  9304.82344817,  7865.1995257 ,\n",
       "        5197.98911097,  5414.6746449 ,  8547.29330861,  7844.48876994,\n",
       "        2712.47926472,  1748.9257073 ,  1187.128605  ,  1729.78597952,\n",
       "        1819.72311651,  1854.88951697,  2304.68029035,  3172.4604772 ,\n",
       "        4007.32250643,  2230.56896116,  3835.24383212,  4888.38896889,\n",
       "        3451.01187633,  2840.54742378,  7760.31291559,  6277.31936282,\n",
       "        3430.27859428,  3218.13021461,  2036.45477237,  2177.53478072,\n",
       "        3648.69635763,  2625.3774218 ,  2624.20740794,  3006.28699546,\n",
       "        3152.87303225,  3154.97378888,  2607.12259289,  2274.87579535,\n",
       "        2575.3117354 ,  3020.51725495,  1090.75069429,  3350.34216656,\n",
       "        4474.61532896])"
      ]
     },
     "execution_count": 31,
     "metadata": {},
     "output_type": "execute_result"
    }
   ],
   "source": [
    "worst_day_function = np.array(test_df.loc[test_df['unique_id'] == u_id, 'y'].iloc[(worst_day - 1) * 24: worst_day * 24 ].values)\n",
    "\n",
    "# Compute distances for all worst_day_function at once\n",
    "distances = np.linalg.norm(subset - worst_day_function, axis=1) \n",
    "\n",
    "\n",
    "distances"
   ]
  },
  {
   "cell_type": "code",
   "execution_count": 33,
   "id": "ef233c49-eff4-4f5a-949b-013e28f5237a",
   "metadata": {
    "tags": []
   },
   "outputs": [
    {
     "data": {
      "text/plain": [
       "array([290, 262, 263, 261, 264])"
      ]
     },
     "execution_count": 33,
     "metadata": {},
     "output_type": "execute_result"
    }
   ],
   "source": [
    "# Get the indices of the 5 closest matches for each function\n",
    "closest_indices = np.argsort(distances, axis=0)[:5]\n",
    "\n",
    "closest_indices"
   ]
  },
  {
   "cell_type": "code",
   "execution_count": 34,
   "id": "e420ec30-1075-4126-b993-d0f38c4ebc56",
   "metadata": {
    "tags": []
   },
   "outputs": [],
   "source": [
    "ap_mae = pd.read_csv('./mae_differences/AP_mae.csv')\n",
    "dom_mae = pd.read_csv('./mae_differences/DOM_mae.csv')\n",
    "jc_mae = pd.read_csv('./mae_differences/JC_mae.csv')\n",
    "pn_mae = pd.read_csv('./mae_differences/PN_mae.csv')\n",
    "rto_mae = pd.read_csv('./mae_differences/RTO_mae.csv')"
   ]
  },
  {
   "cell_type": "code",
   "execution_count": 35,
   "id": "fa7a3531-6bbe-4b03-9ffe-b9db39d6285d",
   "metadata": {
    "tags": []
   },
   "outputs": [],
   "source": [
    "locations = [ap_mae, dom_mae, jc_mae, pn_mae, rto_mae]"
   ]
  },
  {
   "cell_type": "code",
   "execution_count": 50,
   "id": "1f429a82-21df-4666-8a63-0ee81099530c",
   "metadata": {
    "tags": []
   },
   "outputs": [],
   "source": [
    "locations_closest = pd.DataFrame()\n",
    "\n",
    "for location in locations:\n",
    "    \n",
    "    # get the uniaue_id of the current location\n",
    "    u_id = location['unique_id'][0] \n",
    "    \n",
    "    # Get the indices of the worst predicted day\n",
    "    worst_day = int(location[location['unique_id'] == u_id].loc[0, 'n_day'] - 1)\n",
    "\n",
    "    # Extract corresponding function from test_df\n",
    "    worst_day_function = np.array(test_df.loc[test_df['unique_id'] == u_id, 'y'].iloc[(worst_day - 1) * 24: worst_day * 24].values)\n",
    "\n",
    "    # Compute distances for all worst_day_function at once\n",
    "    subset = train_df[train_df['unique_id'] == u_id]['y'].values.reshape(-1, 24) \n",
    "    distances = np.linalg.norm(subset - worst_day_function, axis=1)  # Efficient L2 norm calculation\n",
    "\n",
    "    # Get the indices of the 5 closest matches for each function\n",
    "    closest_indices = np.argsort(distances, axis=0)[:5]\n",
    "\n",
    "    # Convert to a DataFrame if needed\n",
    "    closest_indices_df = pd.DataFrame(closest_indices, columns=[u_id])\n",
    "\n",
    "    locations_closest[u_id] = closest_indices_df + 1"
   ]
  },
  {
   "cell_type": "code",
   "execution_count": 51,
   "id": "9ffff0d4-591a-4e93-b0e8-5d2b739fb327",
   "metadata": {
    "tags": []
   },
   "outputs": [
    {
     "data": {
      "text/html": [
       "<div>\n",
       "<style scoped>\n",
       "    .dataframe tbody tr th:only-of-type {\n",
       "        vertical-align: middle;\n",
       "    }\n",
       "\n",
       "    .dataframe tbody tr th {\n",
       "        vertical-align: top;\n",
       "    }\n",
       "\n",
       "    .dataframe thead th {\n",
       "        text-align: right;\n",
       "    }\n",
       "</style>\n",
       "<table border=\"1\" class=\"dataframe\">\n",
       "  <thead>\n",
       "    <tr style=\"text-align: right;\">\n",
       "      <th></th>\n",
       "      <th>AP-AP</th>\n",
       "      <th>DOM-DOM</th>\n",
       "      <th>JC-JC</th>\n",
       "      <th>PN-PN</th>\n",
       "      <th>RTO-RTO</th>\n",
       "    </tr>\n",
       "  </thead>\n",
       "  <tbody>\n",
       "    <tr>\n",
       "      <th>0</th>\n",
       "      <td>291</td>\n",
       "      <td>291</td>\n",
       "      <td>266</td>\n",
       "      <td>281</td>\n",
       "      <td>291</td>\n",
       "    </tr>\n",
       "    <tr>\n",
       "      <th>1</th>\n",
       "      <td>263</td>\n",
       "      <td>284</td>\n",
       "      <td>288</td>\n",
       "      <td>276</td>\n",
       "      <td>284</td>\n",
       "    </tr>\n",
       "    <tr>\n",
       "      <th>2</th>\n",
       "      <td>264</td>\n",
       "      <td>289</td>\n",
       "      <td>267</td>\n",
       "      <td>272</td>\n",
       "      <td>262</td>\n",
       "    </tr>\n",
       "    <tr>\n",
       "      <th>3</th>\n",
       "      <td>262</td>\n",
       "      <td>283</td>\n",
       "      <td>285</td>\n",
       "      <td>105</td>\n",
       "      <td>263</td>\n",
       "    </tr>\n",
       "    <tr>\n",
       "      <th>4</th>\n",
       "      <td>265</td>\n",
       "      <td>280</td>\n",
       "      <td>279</td>\n",
       "      <td>58</td>\n",
       "      <td>264</td>\n",
       "    </tr>\n",
       "  </tbody>\n",
       "</table>\n",
       "</div>"
      ],
      "text/plain": [
       "   AP-AP  DOM-DOM  JC-JC  PN-PN  RTO-RTO\n",
       "0    291      291    266    281      291\n",
       "1    263      284    288    276      284\n",
       "2    264      289    267    272      262\n",
       "3    262      283    285    105      263\n",
       "4    265      280    279     58      264"
      ]
     },
     "execution_count": 51,
     "metadata": {},
     "output_type": "execute_result"
    }
   ],
   "source": [
    "locations_closest"
   ]
  },
  {
   "cell_type": "code",
   "execution_count": 49,
   "id": "de1c018b-b222-434c-b4fc-79118bafcaf2",
   "metadata": {
    "tags": []
   },
   "outputs": [
    {
     "data": {
      "image/png": "[encoded data removed]",
      "text/plain": [
       "<Figure size 1200x500 with 1 Axes>"
      ]
     },
     "metadata": {},
     "output_type": "display_data"
    }
   ],
   "source": [
    "import matplotlib.pyplot as plt\n",
    "\n",
    "plt.figure(figsize=(12,5))\n",
    "\n",
    "\n",
    "plt.plot(train_df[train_df['unique_id'] == 'PN-PN'][290 * 24: 290 * 24 + 24]['y'].values, label='6')\n",
    "plt.plot(test_df[test_df['unique_id'] == 'PN-PN'][13 * 24: 13 * 24 + 24]['y'].values, label='14')\n",
    "\n",
    "plt.legend()\n",
    "plt.show()"
   ]
  },
  {
   "cell_type": "code",
   "execution_count": null,
   "id": "d937879f-5c2f-4d46-bf6d-96f22355474c",
   "metadata": {},
   "outputs": [],
   "source": []
  }
 ],
 "metadata": {
  "kernelspec": {
   "display_name": "Nixtla",
   "language": "python",
   "name": "nixtla"
  },
  "language_info": {
   "codemirror_mode": {
    "name": "ipython",
    "version": 3
   },
   "file_extension": ".py",
   "mimetype": "text/x-python",
   "name": "python",
   "nbconvert_exporter": "python",
   "pygments_lexer": "ipython3",
   "version": "3.11.11"
  }
 },
 "nbformat": 4,
 "nbformat_minor": 5
}
